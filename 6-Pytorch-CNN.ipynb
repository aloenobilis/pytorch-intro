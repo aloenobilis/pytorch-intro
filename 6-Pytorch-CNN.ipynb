{
 "cells": [
  {
   "cell_type": "markdown",
   "metadata": {},
   "source": [
    "All code from this cell is within notebook number 5"
   ]
  },
  {
   "cell_type": "code",
   "execution_count": 1,
   "metadata": {},
   "outputs": [
    {
     "name": "stdout",
     "output_type": "stream",
     "text": [
      "24946\n"
     ]
    }
   ],
   "source": [
    "import os\n",
    "import cv2\n",
    "import numpy as np\n",
    "import tqdm as tqdm\n",
    "from tqdm import tqdm as tqdm\n",
    "\n",
    "REBUILD_DATA = False\n",
    "\n",
    "class DogsVsCats():\n",
    "    IMG_SIZE = 50\n",
    "    CATS = \"PetImages/Cat\"\n",
    "    DOGS = \"PetImages/Dog\"\n",
    "    LABELS = {CATS: 0, DOGS: 1}     # 'classes', cat is 0, dog is 1\n",
    "    catcount = 0                    # a count to test the balance of the training set\n",
    "    dogcount = 0\n",
    "    training_data = []              # will be populated with cats,dogs and corresponding labels for every cat and dog  \n",
    "    \n",
    "    def make_training_data(self):\n",
    "        for label in self.LABELS:\n",
    "            print(label)\n",
    "            for file in tqdm(os.listdir(label)):\n",
    "                try:\n",
    "                    path = os.path.join(label, file)\n",
    "                    img = cv2.imread(path, cv2.IMREAD_GRAYSCALE)    # is colour a defining feature of wether something is a cat or dog? no \n",
    "                    img = cv2.resize(img, (self.IMG_SIZE, self.IMG_SIZE))    # resize\n",
    "                    self.training_data.append([np.array(img), np.eye(2)[self.LABELS[label]]])  # [img, one hot vector]\n",
    "\n",
    "                    if label == self.CATS:\n",
    "                        self.catcount += 1\n",
    "                    elif label == self.DOGS:\n",
    "                        self.dogcount += 1\n",
    "\n",
    "                except Exception as e:\n",
    "                    pass\n",
    "                    # print(str(e))\n",
    "                    \n",
    "        # shuffle\n",
    "        np.random.shuffle(self.training_data)\n",
    "        # save np.save(save as, save what)\n",
    "        np.save(\"training_data.npy\", self.training_data)\n",
    "            \n",
    "        print('Cats: ', self.catcount)\n",
    "        print('Dogs: ', self.dogcount)\n",
    "            \n",
    "            \n",
    "            \n",
    "if REBUILD_DATA:\n",
    "    dogsvcats = DogsVsCats()\n",
    "    dogsvcats.make_training_data()\n",
    "\n",
    "training_data = np.load('training_data.npy', allow_pickle=True)\n",
    "print(len(training_data))"
   ]
  },
  {
   "cell_type": "markdown",
   "metadata": {},
   "source": [
    "Torch Time 🔥"
   ]
  },
  {
   "cell_type": "code",
   "execution_count": 9,
   "metadata": {},
   "outputs": [],
   "source": [
    "import torch\n",
    "import torch.nn as nn\n",
    "import torch.nn.functional as F"
   ]
  },
  {
   "cell_type": "code",
   "execution_count": 13,
   "metadata": {},
   "outputs": [
    {
     "name": "stdout",
     "output_type": "stream",
     "text": [
      "torch.Size([128, 2, 2])\n"
     ]
    }
   ],
   "source": [
    "class Net(nn.Module):\n",
    "    def __init__(self):\n",
    "        super().__init__()\n",
    "        # \n",
    "        self.conv1 = nn.Conv2d(1, 32, 5)\n",
    "        self.conv2 = nn.Conv2d(32, 64, 5)\n",
    "        self.conv3 = nn.Conv2d(64, 128, 5)\n",
    "        \n",
    "        # \n",
    "        x = torch.randn(50,50).view(-1, 1, 50, 50)\n",
    "        self._to_linear = None\n",
    "        self.convs(x)\n",
    "       \n",
    "        \n",
    "        self.fc1 = nn.Linear(self._to_linear, 512) # here we flatten \n",
    "        self.fc2 = nn.Linear(512, 2)     # output is same number as number of classes, 2\n",
    "        \n",
    "        # in order to get the size of the input sample for the first Linear after the last Conv2d,\n",
    "        # we'll pass through dummy data in order to be able to caluculate the size.\n",
    "        # We calculate the size by multiplying the dimensions of the output from the last Conv2d\n",
    "        \n",
    "    # This function serves as part of our forward method, however \n",
    "    def convs(self, x):\n",
    "        x = F.max_pool2d(F.relu(self.conv1(x)), (2,2))\n",
    "        x = F.max_pool2d(F.relu(self.conv2(x)), (2,2))\n",
    "        x = F.max_pool2d(F.relu(self.conv3(x)), (2,2))\n",
    "\n",
    "        print(x[0].shape)\n",
    "        if self._to_linear is None:\n",
    "            self._to_linear = x[0].shape[0] * x[0].shape[1] * x[0].shape[2] # np.prod(x[0].shape)\n",
    "        return x\n",
    "\n",
    "    def forward(self, x):\n",
    "        x = self.convs(x)\n",
    "        x = x.view(-1, self._to_linear) # here we flatten \n",
    "        x = F.relu(self.fc1(x))\n",
    "        x = self.fc2(x)\n",
    "        return F.softmax(x, dim=1)  # distribution\n",
    "        \n",
    "\n",
    "net = Net()"
   ]
  },
  {
   "cell_type": "code",
   "execution_count": null,
   "metadata": {},
   "outputs": [],
   "source": []
  },
  {
   "cell_type": "code",
   "execution_count": null,
   "metadata": {},
   "outputs": [],
   "source": []
  }
 ],
 "metadata": {
  "kernelspec": {
   "display_name": "Python 3",
   "language": "python",
   "name": "python3"
  },
  "language_info": {
   "codemirror_mode": {
    "name": "ipython",
    "version": 3
   },
   "file_extension": ".py",
   "mimetype": "text/x-python",
   "name": "python",
   "nbconvert_exporter": "python",
   "pygments_lexer": "ipython3",
   "version": "3.7.4"
  }
 },
 "nbformat": 4,
 "nbformat_minor": 4
}

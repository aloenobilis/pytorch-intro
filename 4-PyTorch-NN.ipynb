{
 "cells": [
  {
   "cell_type": "code",
   "execution_count": 1,
   "metadata": {},
   "outputs": [],
   "source": [
    "import torch\n",
    "import torchvision\n",
    "from torchvision import transforms, datasets\n",
    "\n",
    "train = datasets.MNIST(\"\", train=True, download=True,\n",
    "                  transform = transforms.Compose([\n",
    "                      transforms.ToTensor()\n",
    "                  ]))\n",
    "\n",
    "test = datasets.MNIST(\"\", train=False, download=True,\n",
    "                  transform = transforms.Compose([\n",
    "                      transforms.ToTensor()\n",
    "                  ]))\n",
    "\n",
    "trainset = torch.utils.data.DataLoader(train, batch_size=10, shuffle=True)\n",
    "testset = torch.utils.data.DataLoader(test, batch_size=10, shuffle=True)"
   ]
  },
  {
   "cell_type": "code",
   "execution_count": 2,
   "metadata": {},
   "outputs": [],
   "source": [
    "# nn provides an OO interface (initialsing) while F is functional (parameters)\n",
    "import torch.nn as nn\n",
    "import torch.nn.functional as F"
   ]
  },
  {
   "cell_type": "code",
   "execution_count": 3,
   "metadata": {},
   "outputs": [
    {
     "name": "stdout",
     "output_type": "stream",
     "text": [
      "Net(\n",
      "  (fc1): Linear(in_features=784, out_features=64, bias=True)\n",
      "  (fc2): Linear(in_features=64, out_features=64, bias=True)\n",
      "  (fc3): Linear(in_features=64, out_features=64, bias=True)\n",
      "  (fc4): Linear(in_features=64, out_features=10, bias=True)\n",
      ")\n"
     ]
    }
   ],
   "source": [
    "# python: Net inherits methods from nn.Module, calling super will call the nn.Module (parent) init function.\n",
    "\n",
    "class Net(nn.Module):\n",
    "    '''\n",
    "    __init__: \n",
    "        - fc1 is fully connected first layer\n",
    "            - the first layer fc1 is input, it outputs to fc2 so we pass the same size from the output of fc1 to the input of fc2\n",
    "            - the output layer fc4 has a size of 10 to represent each of our ten digits\n",
    "        - nn.Linear(input, output), \n",
    "            - input (size of each input sample) are our images, each image is 28 by 28 pixels so a flattend image is 28*28=784\n",
    "            - output (size of each output sample) will have 3 layers of 64 neurons for our hidden layers\n",
    "\n",
    "    forward: \n",
    "        - Feed Forward Network, as simple as it gets, one layers output is passed to the next layers output\n",
    "        - Most people use the same optimizer function like relu, things change with regards to output, for us the output is multi class and log softmax \n",
    "          works to give a probability distribution. Note that the size of the output is the number if outputs, one for each of our ten digits.\n",
    "        - F.relu() is being run over an entire layers output, relu (rectifide linear) is the activation function or optimizer, it is a sigmoid\n",
    "          for firing or not firing of 'neurons'\n",
    "        - F.log_softmax() takes the output and dimension to output a probability distribution, recall that the goal with output \n",
    "          is to see which neurons fired, so whichever one is closer to 1 then that is the 'most fired' neuron. Because we are dealing with \n",
    "          multiple classes we want a probability distribution on the output.\n",
    "    '''\n",
    "    def __init__(self):\n",
    "        super().__init__()\n",
    "        self.fc1 = nn.Linear(28*28, 64)   # input to hidden\n",
    "        self.fc2 = nn.Linear(64, 64)      # hidden\n",
    "        self.fc3 = nn.Linear(64, 64)      # hidden\n",
    "        self.fc4 = nn.Linear(64, 10)      # hidden to output\n",
    "        \n",
    "    def forward(self, x):\n",
    "        x = F.relu(self.fc1(x))   # x is the output ( nn.Linear(64, x) ), pass result of fc1 to relu\n",
    "        x = F.relu(self.fc2(x))\n",
    "        x = F.relu(self.fc3(x))\n",
    "        x = self.fc4(x)           # for the output we want to output a probability distribution\n",
    "\n",
    "        # probability distribution log_softmax, dimension is 1 as we assume a flat multi dim array tensor for final x (output)\n",
    "        return F.log_softmax(x, dim=1)\n",
    "        \n",
    "        \n",
    "net = Net()   \n",
    "print(net)"
   ]
  },
  {
   "cell_type": "code",
   "execution_count": 4,
   "metadata": {},
   "outputs": [],
   "source": [
    "X = torch.rand((28,28))\n",
    "X = X.view(-1, 28*28)    # -1 tells the reshape/view to expect data at any size Tensor(multi dimen array)"
   ]
  },
  {
   "cell_type": "code",
   "execution_count": 5,
   "metadata": {},
   "outputs": [],
   "source": [
    "output = net(X)"
   ]
  },
  {
   "cell_type": "code",
   "execution_count": 6,
   "metadata": {},
   "outputs": [
    {
     "data": {
      "text/plain": [
       "tensor([[-2.3946, -2.4483, -2.1444, -2.4615, -2.2429, -2.1308, -2.1603, -2.2806,\n",
       "         -2.4420, -2.4023]], grad_fn=<LogSoftmaxBackward>)"
      ]
     },
     "execution_count": 6,
     "metadata": {},
     "output_type": "execute_result"
    }
   ],
   "source": [
    "output # these are the outputs !"
   ]
  },
  {
   "cell_type": "code",
   "execution_count": 7,
   "metadata": {},
   "outputs": [
    {
     "data": {
      "text/plain": [
       "tensor(-2.1308, grad_fn=<MaxBackward1>)"
      ]
     },
     "execution_count": 7,
     "metadata": {},
     "output_type": "execute_result"
    }
   ],
   "source": [
    "output.max() # max value will be at index, the index is the predicted value"
   ]
  },
  {
   "cell_type": "markdown",
   "metadata": {},
   "source": [
    "<hr/>\n",
    "\n",
    "Up to this point, we've gotton the data (builtin dataset), we've built the neural network and passed some data through the neural network and we get a response.\n",
    "\n",
    "But now we want to pass through labeled data and train the model to be able to recognize hand written digits from data its never seen before.\n",
    "In order to acheive this, we'll need to learn about loss and the optimizer.\n",
    "\n",
    "Loss is simply how wrong the model is, the goal with loss is to have it decrease over time.\n",
    "The optimizers job is to go and adjust the weights that it can, based on the loss (gradients) to lower the loss. Learning rate is the step size."
   ]
  },
  {
   "cell_type": "code",
   "execution_count": 13,
   "metadata": {},
   "outputs": [
    {
     "name": "stdout",
     "output_type": "stream",
     "text": [
      "tensor(0.0509, grad_fn=<NllLossBackward>)\n",
      "tensor(0.0448, grad_fn=<NllLossBackward>)\n",
      "tensor(0.0020, grad_fn=<NllLossBackward>)\n"
     ]
    }
   ],
   "source": [
    "import torch.optim as optim\n",
    "\n",
    "optimizer = optim.Adam(net.parameters(), lr=0.001)  # net.parameters() is everything that is adjustable within the model\n",
    "\n",
    "EPOCHS = 3  # a full pass through of all the data is called an epoch \n",
    "\n",
    "for epoch in range(EPOCHS):\n",
    "    for data in trainset:\n",
    "        # data is a batch of featuresets and labels (targets)\n",
    "        # featuresets are the images (X[i]), labels are the class names (y[i]) like a 1,2,3,4,5...\n",
    "        X, y = data\n",
    "        # everytime before you pass data through the NN start with a zero gradient\n",
    "        # zero gradients can help with lowering batch size if hardware resources are limited, the way it does this is that as each wave of data that flows through \n",
    "        # the NN the data are added together to calculate weights for each of the features, interupting the flow with a wave of zeros will 'reset' or 'seperate'\n",
    "        # a data into an artificial batch, more batches are better as it gives the optimizer a way to compare outputs of hidden layers and adjust for loss.\n",
    "        # the gradients contain the loss, the optimizer uses the gradients to optimize the weights.\n",
    "        net.zero_grad()\n",
    "        output = net(X.view(-1, 28*28))\n",
    "        loss = F.nll_loss(output, y)\n",
    "        loss.backward()    # back propigate loss over model parameters\n",
    "        optimizer.step()   # will adjust the weights for us\n",
    "    print(loss)\n",
    "        "
   ]
  },
  {
   "cell_type": "code",
   "execution_count": 16,
   "metadata": {},
   "outputs": [
    {
     "name": "stdout",
     "output_type": "stream",
     "text": [
      "Accuracy:  0.979\n"
     ]
    }
   ],
   "source": [
    "correct, total = 0, 0\n",
    "\n",
    "# when validating data we don't want gradients to be calculated, this is out of sample data\n",
    "# so we use torch with no gradient (no_grad), we just want to know how good the NN is at this point\n",
    "with torch.no_grad():  \n",
    "    for data in trainset:\n",
    "        X, y = data\n",
    "        output = net(X.view(-1, 28*28))\n",
    "        for idx, i in enumerate(output):      # i is an output Tensor\n",
    "            if(torch.argmax(i) == y[idx]):    # if the max value in i is the same at the index of y, then because the digits correspond to their index, correct+=1\n",
    "                correct += 1\n",
    "            total += 1\n",
    "\n",
    "print('Accuracy: ', round(correct/total, 3))"
   ]
  },
  {
   "cell_type": "markdown",
   "metadata": {},
   "source": [
    "Viewing predictions"
   ]
  },
  {
   "cell_type": "code",
   "execution_count": 26,
   "metadata": {},
   "outputs": [
    {
     "data": {
      "image/png": "[encoded data removed]",
      "text/plain": [
       "<Figure size 432x288 with 1 Axes>"
      ]
     },
     "metadata": {
      "needs_background": "light"
     },
     "output_type": "display_data"
    }
   ],
   "source": [
    "import matplotlib.pyplot as plt\n",
    "plt.imshow(X[8].view(28,28))\n",
    "plt.show()"
   ]
  },
  {
   "cell_type": "code",
   "execution_count": 27,
   "metadata": {},
   "outputs": [
    {
     "name": "stdout",
     "output_type": "stream",
     "text": [
      "tensor(2, grad_fn=<NotImplemented>)\n"
     ]
    }
   ],
   "source": [
    "print(torch.argmax(net(X[8].view(-1, 28*28))[0]))"
   ]
  }
 ],
 "metadata": {
  "kernelspec": {
   "display_name": "Python 3",
   "language": "python",
   "name": "python3"
  },
  "language_info": {
   "codemirror_mode": {
    "name": "ipython",
    "version": 3
   },
   "file_extension": ".py",
   "mimetype": "text/x-python",
   "name": "python",
   "nbconvert_exporter": "python",
   "pygments_lexer": "ipython3",
   "version": "3.7.4"
  }
 },
 "nbformat": 4,
 "nbformat_minor": 4
}
